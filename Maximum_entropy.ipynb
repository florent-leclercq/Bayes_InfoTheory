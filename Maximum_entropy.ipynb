{
 "cells": [
  {
   "cell_type": "markdown",
   "metadata": {},
   "source": [
    "# Maximum entropy principle"
   ]
  },
  {
   "cell_type": "markdown",
   "metadata": {},
   "source": [
    "Florent Leclercq,<br/>\n",
    "Institut d'Astrophysique de Paris,<br/>\n",
    "florent.leclercq@iap.fr"
   ]
  },
  {
   "cell_type": "code",
   "execution_count": 1,
   "metadata": {},
   "outputs": [],
   "source": [
    "from scipy.optimize import fsolve\n",
    "import numpy as np\n",
    "import matplotlib.pyplot as plt"
   ]
  },
  {
   "cell_type": "code",
   "execution_count": 2,
   "metadata": {},
   "outputs": [],
   "source": [
    "plt.rcParams.update({'lines.linewidth': 2})\n",
    "plt.rcParams.update({'text.usetex': True})\n",
    "plt.rcParams.update({'text.latex.preamble': r\"\\usepackage{amsmath}\\usepackage{upgreek}\"})\n",
    "plt.rcParams.update({'font.family': 'serif'})\n",
    "plt.rcParams.update({'font.size': 15})\n",
    "dir=\"./plots/Maximum_entropy/\"\n",
    "!mkdir -p $dir"
   ]
  },
  {
   "cell_type": "markdown",
   "metadata": {},
   "source": [
    "## Dice example"
   ]
  },
  {
   "cell_type": "markdown",
   "metadata": {},
   "source": [
    "The constraints are $\\sum_{n=1}^{6} n p_n = 4$ (contraint on the mean) and $\\sum_{n=1}^{6} p_n = 1$ (normalization constraint). The Lagrangian is\n",
    "\\begin{equation}\n",
    "\\mathcal{L}[\\{p_n\\},\\lambda,\\mu] = - \\sum_{n=1}^{6} p_n \\ln p_n - \\lambda \\left( \\sum_{n=1}^{6} n p_n - 4 \\right) - \\mu \\left( \\sum_{n=1}^{6} p_n - 1 \\right).\n",
    "\\end{equation}"
   ]
  },
  {
   "cell_type": "code",
   "execution_count": 3,
   "metadata": {},
   "outputs": [],
   "source": [
    "mean=4"
   ]
  },
  {
   "cell_type": "markdown",
   "metadata": {},
   "source": [
    "$\\dfrac{\\partial \\mathcal{L}}{\\partial p_n} =0$ fixes $p_n = \\dfrac{\\mathrm{e}^{-\\lambda n}}{Z} = \\dfrac{x^{-n}}{Z}$ (we define $x \\equiv \\mathrm{e}^\\lambda$)."
   ]
  },
  {
   "cell_type": "code",
   "execution_count": 4,
   "metadata": {},
   "outputs": [],
   "source": [
    "def p1(x):\n",
    "    return pow(x,-1)/Z(x)\n",
    "def p2(x):\n",
    "    return pow(x,-2)/Z(x)\n",
    "def p3(x):\n",
    "    return pow(x,-3)/Z(x)\n",
    "def p4(x):\n",
    "    return pow(x,-4)/Z(x)\n",
    "def p5(x):\n",
    "    return pow(x,-5)/Z(x)\n",
    "def p6(x):\n",
    "    return pow(x,-6)/Z(x)"
   ]
  },
  {
   "cell_type": "markdown",
   "metadata": {},
   "source": [
    "The normalization constraint $\\sum_{n=1}^{6} p_n = 1$ fixes\n",
    "\\begin{equation}\n",
    "Z = \\sum_{n=1}^{6} \\mathrm{e}^{-\\lambda n} = \\dfrac{1-\\mathrm{e}^{-6\\lambda}}{\\mathrm{e}^\\lambda-1} = \\dfrac{1-x^{-6}}{x-1}.\n",
    "\\end{equation}"
   ]
  },
  {
   "cell_type": "code",
   "execution_count": 5,
   "metadata": {},
   "outputs": [],
   "source": [
    "def Z(x):\n",
    "    return (1-pow(x,-6))/(x-1)"
   ]
  },
  {
   "cell_type": "markdown",
   "metadata": {},
   "source": [
    "The constraint on the mean is obtained by noting that\n",
    "\\begin{equation}\n",
    "-\\frac{\\mathrm{d} \\ln Z}{\\mathrm{d} \\lambda} = -\\frac{1}{Z} \\frac{\\mathrm{d}Z}{\\mathrm{d}\\lambda} = \\sum_{n=1}^6 n \\frac{\\mathrm{e}^{-\\lambda n}}{Z} = \\sum_{n=1}^6 n \\, p_n = 4.\n",
    "\\end{equation}\n",
    "\n",
    "This gives an equation for $\\lambda$: $\\mathrm{e}^\\lambda/(\\mathrm{e}^\\lambda-1) - 6/(\\mathrm{e}^{6\\lambda}-1)= 4$. "
   ]
  },
  {
   "cell_type": "code",
   "execution_count": 6,
   "metadata": {},
   "outputs": [
    {
     "data": {
      "text/plain": [
       "0.8397685748659793"
      ]
     },
     "execution_count": 6,
     "metadata": {},
     "output_type": "execute_result"
    }
   ],
   "source": [
    "# we now solve the equation giving x=exp(lambda)\n",
    "def f(x):\n",
    "    return x/(x-1) - 6/(np.power(x,6)-1) - mean\n",
    "    # This is -dlnZ/dZ-mean, which should be 0\n",
    "x0=fsolve(f,2)[0]\n",
    "x0"
   ]
  },
  {
   "cell_type": "code",
   "execution_count": 7,
   "metadata": {},
   "outputs": [
    {
     "data": {
      "text/plain": [
       "(0.10306524522362508,\n",
       " 0.12273053351641969,\n",
       " 0.14614804267474113,\n",
       " 0.17403371244043664,\n",
       " 0.20724008691110057,\n",
       " 0.246782379233677)"
      ]
     },
     "execution_count": 7,
     "metadata": {},
     "output_type": "execute_result"
    }
   ],
   "source": [
    "# using the solution for x, we have the probability assignment:\n",
    "pn = (p1(x0), p2(x0), p3(x0), p4(x0), p5(x0), p6(x0))\n",
    "pn"
   ]
  },
  {
   "cell_type": "code",
   "execution_count": 8,
   "metadata": {},
   "outputs": [
    {
     "data": {
      "image/png": "[encoded data removed]",
      "text/plain": [
       "<Figure size 640x480 with 1 Axes>"
      ]
     },
     "metadata": {},
     "output_type": "display_data"
    }
   ],
   "source": [
    "plt.bar(np.arange(1,7),1/6.,label=\"fair dice\")\n",
    "plt.bar(np.arange(1,7),pn,label=\"loaded dice\",alpha=0.8)\n",
    "plt.xlabel(\"face\")\n",
    "plt.ylabel(\"probability\")\n",
    "plt.legend()\n",
    "plt.savefig(dir+'dice.pdf',dpi=300,bbox_inches=\"tight\",transparent=True)\n",
    "plt.savefig(dir+'dice.png',dpi=300,bbox_inches=\"tight\")"
   ]
  },
  {
   "cell_type": "code",
   "execution_count": 9,
   "metadata": {},
   "outputs": [
    {
     "data": {
      "text/plain": [
       "1.0"
      ]
     },
     "execution_count": 9,
     "metadata": {},
     "output_type": "execute_result"
    }
   ],
   "source": [
    "# check normalization constraint\n",
    "p1(x0)+p2(x0)+p3(x0)+p4(x0)+p5(x0)+p6(x0)"
   ]
  },
  {
   "cell_type": "code",
   "execution_count": 10,
   "metadata": {},
   "outputs": [
    {
     "data": {
      "text/plain": [
       "3.999999999999999"
      ]
     },
     "execution_count": 10,
     "metadata": {},
     "output_type": "execute_result"
    }
   ],
   "source": [
    "# check mean constraint\n",
    "1*p1(x0)+2*p2(x0)+3*p3(x0)+4*p4(x0)+5*p5(x0)+6*p6(x0)"
   ]
  },
  {
   "cell_type": "markdown",
   "metadata": {},
   "source": [
    "## Cosmic web example"
   ]
  },
  {
   "cell_type": "markdown",
   "metadata": {},
   "source": [
    "The cosmic web is described by four possible structures ($\\theta_0=$ void, $\\theta_1=$ sheet, $\\theta_2=$ filament, and $\\theta_3=$ cluster. We are looking for the prior probabilities $p_n$ ($n = 0, ..., 3$) that one should assign to each of these structures. Let us assume that we have measured in astronomical observations the (average) volume of structures:"
   ]
  },
  {
   "cell_type": "code",
   "execution_count": 11,
   "metadata": {},
   "outputs": [],
   "source": [
    "# Volume of the different structures (arbitrary normalization)\n",
    "# (based on numbers given in table II in Leclercq et al. 2015a, arXiv:1502.02690)\n",
    "V0 = 60\n",
    "V1 = 20\n",
    "V2 = 8\n",
    "V3 = 1"
   ]
  },
  {
   "cell_type": "markdown",
   "metadata": {},
   "source": [
    "The cosmological principle states that there cannot be cosmological structures at arbitrary large scales (the \"End of Greatness\"); let us say that this imposes the average volume of a random cosmic web element to be:"
   ]
  },
  {
   "cell_type": "code",
   "execution_count": 12,
   "metadata": {},
   "outputs": [],
   "source": [
    "# The average volume of a random cosmic web structure\n",
    "V = 30"
   ]
  },
  {
   "cell_type": "markdown",
   "metadata": {},
   "source": [
    "Just on the basis of these observations, the maximum entropy principle fixes the new prior probabilities $p_n$ that one should use. They are given in canonical notations as $p_n = \\mathrm{e}^{-\\beta V_n}/Z$ with $Z=\\sum_n \\mathrm{e}^{-\\beta V_n}$."
   ]
  },
  {
   "cell_type": "code",
   "execution_count": 13,
   "metadata": {},
   "outputs": [],
   "source": [
    "# x=exp(-beta) in the usual thermodynamic notations\n",
    "def Z(x):\n",
    "    return np.power(x,V0)+np.power(x,V1)+np.power(x,V2)+np.power(x,V3)\n",
    "def p0(x):\n",
    "    return np.power(x,V0)/Z(x)\n",
    "def p1(x):\n",
    "    return np.power(x,V1)/Z(x)\n",
    "def p2(x):\n",
    "    return np.power(x,V2)/Z(x)\n",
    "def p3(x):\n",
    "    return np.power(x,V3)/Z(x)\n",
    "def dlnZdx(x):\n",
    "    return p0(x)*V0+p1(x)*V1+p2(x)*V2+p3(x)*V3"
   ]
  },
  {
   "cell_type": "markdown",
   "metadata": {},
   "source": [
    "Solving $\\left\\langle V \\right\\rangle = -\\partial Z/\\partial \\beta = \\bar{V}$ fixes $\\beta$:"
   ]
  },
  {
   "cell_type": "code",
   "execution_count": 14,
   "metadata": {},
   "outputs": [
    {
     "data": {
      "text/plain": [
       "1.0134673199344182"
      ]
     },
     "execution_count": 14,
     "metadata": {},
     "output_type": "execute_result"
    }
   ],
   "source": [
    "def f(x):\n",
    "    return dlnZdx(x)-V\n",
    "x0=fsolve(f,0.9)[0]\n",
    "x0"
   ]
  },
  {
   "cell_type": "markdown",
   "metadata": {},
   "source": [
    "The solution is therefore:"
   ]
  },
  {
   "cell_type": "code",
   "execution_count": 15,
   "metadata": {},
   "outputs": [
    {
     "data": {
      "text/plain": [
       "(0.39392560584840686,\n",
       " 0.23068759870801528,\n",
       " 0.19647498278472048,\n",
       " 0.17891181265885733)"
      ]
     },
     "execution_count": 15,
     "metadata": {},
     "output_type": "execute_result"
    }
   ],
   "source": [
    "P0=p0(x0); P1=p1(x0); P2=p2(x0); P3=p3(x0)\n",
    "P0,P1,P2,P3"
   ]
  },
  {
   "cell_type": "code",
   "execution_count": 16,
   "metadata": {},
   "outputs": [
    {
     "data": {
      "text/plain": [
       "1.0"
      ]
     },
     "execution_count": 16,
     "metadata": {},
     "output_type": "execute_result"
    }
   ],
   "source": [
    "# check normalization constraint\n",
    "P0+P1+P2+P3"
   ]
  },
  {
   "cell_type": "code",
   "execution_count": 17,
   "metadata": {},
   "outputs": [
    {
     "data": {
      "text/plain": [
       "30.000000000001336"
      ]
     },
     "execution_count": 17,
     "metadata": {},
     "output_type": "execute_result"
    }
   ],
   "source": [
    "# check average volume constraint\n",
    "P0*V0+P1*V1+P2*V2+P3*V3"
   ]
  }
 ],
 "metadata": {
  "kernelspec": {
   "display_name": "base",
   "language": "python",
   "name": "python3"
  },
  "language_info": {
   "codemirror_mode": {
    "name": "ipython",
    "version": 3
   },
   "file_extension": ".py",
   "mimetype": "text/x-python",
   "name": "python",
   "nbconvert_exporter": "python",
   "pygments_lexer": "ipython3",
   "version": "3.10.12"
  }
 },
 "nbformat": 4,
 "nbformat_minor": 1
}
